{
 "cells": [
  {
   "cell_type": "code",
   "execution_count": 69,
   "metadata": {},
   "outputs": [
    {
     "name": "stdout",
     "output_type": "stream",
     "text": [
      "8\n",
      "[7, 6]\n"
     ]
    },
    {
     "data": {
      "text/plain": [
       "[[4, 5], [5, 0]]"
      ]
     },
     "execution_count": 69,
     "metadata": {},
     "output_type": "execute_result"
    }
   ],
   "source": [
    "a = [0,1,2,3,4,5,0,1,2,3,4,5,0]\n",
    "b = a.copy()\n",
    "b.reverse()\n",
    "def test(h, group):\n",
    "    gpcnt = int(h/4)\n",
    "    end = 6 + group\n",
    "    start = end - gpcnt\n",
    "    print(end)\n",
    "    interval = list(range(start, end))\n",
    "    interval.reverse()\n",
    "    print(interval)\n",
    "    delta = 0\n",
    "    def ll(idx):\n",
    "        nonlocal delta\n",
    "        rtn = [b[i] for i in range(idx,idx +gpcnt)]\n",
    "        rtn.reverse()\n",
    "        delta = delta + 1\n",
    "        return  rtn\n",
    "    return list(map(ll, interval))\n",
    "test(8, 2)\n"
   ]
  },
  {
   "cell_type": "code",
   "execution_count": 34,
   "metadata": {},
   "outputs": [
    {
     "data": {
      "text/plain": [
       "[0, 5, 4]"
      ]
     },
     "execution_count": 34,
     "metadata": {},
     "output_type": "execute_result"
    }
   ],
   "source": [
    " [b[i] for i in range(0,3)]"
   ]
  },
  {
   "cell_type": "code",
   "execution_count": 39,
   "metadata": {},
   "outputs": [
    {
     "data": {
      "text/plain": [
       "[0, 5, 4, 3, 2, 1, 0, 5, 4, 3, 2, 1, 0]"
      ]
     },
     "execution_count": 39,
     "metadata": {},
     "output_type": "execute_result"
    }
   ],
   "source": [
    "b"
   ]
  },
  {
   "cell_type": "code",
   "execution_count": 49,
   "metadata": {},
   "outputs": [
    {
     "data": {
      "text/plain": [
       "[]"
      ]
     },
     "execution_count": 49,
     "metadata": {},
     "output_type": "execute_result"
    }
   ],
   "source": [
    "list(range(1,5, -1))"
   ]
  },
  {
   "cell_type": "code",
   "execution_count": 2,
   "metadata": {},
   "outputs": [],
   "source": [
    "import torch\n",
    "from torch import tensor"
   ]
  },
  {
   "cell_type": "code",
   "execution_count": 33,
   "metadata": {},
   "outputs": [
    {
     "ename": "AttributeError",
     "evalue": "module 'torch' has no attribute 'vmap'",
     "output_type": "error",
     "traceback": [
      "\u001b[1;31m---------------------------------------------------------------------------\u001b[0m",
      "\u001b[1;31mAttributeError\u001b[0m                            Traceback (most recent call last)",
      "\u001b[1;32mg:\\git\\mathnet-symbolics\\deletable\\test.ipynb Cell 6'\u001b[0m in \u001b[0;36m<module>\u001b[1;34m\u001b[0m\n\u001b[0;32m      <a href='vscode-notebook-cell:/g%3A/git/mathnet-symbolics/deletable/test.ipynb#ch0000005?line=3'>4</a>\u001b[0m y \u001b[39m=\u001b[39m x\u001b[39m.\u001b[39munfold(\u001b[39m0\u001b[39m,\u001b[39m4\u001b[39m,\u001b[39m1\u001b[39m)\n\u001b[0;32m      <a href='vscode-notebook-cell:/g%3A/git/mathnet-symbolics/deletable/test.ipynb#ch0000005?line=4'>5</a>\u001b[0m flipped \u001b[39m=\u001b[39m x\u001b[39m.\u001b[39munfold(\u001b[39m0\u001b[39m,\u001b[39m4\u001b[39m,\u001b[39m1\u001b[39m)\u001b[39m.\u001b[39mflip([\u001b[39m0\u001b[39m,\u001b[39m1\u001b[39m])\n\u001b[1;32m----> <a href='vscode-notebook-cell:/g%3A/git/mathnet-symbolics/deletable/test.ipynb#ch0000005?line=5'>6</a>\u001b[0m torch\u001b[39m.\u001b[39;49mvmap(\u001b[39mlambda\u001b[39;00m v: tensor(v), \u001b[39m1\u001b[39m, \u001b[39m1\u001b[39m)(flipped)\n",
      "\u001b[1;31mAttributeError\u001b[0m: module 'torch' has no attribute 'vmap'"
     ]
    }
   ],
   "source": [
    "import torch\n",
    "from torch import tensor\n",
    "x = torch.arange(1., 21).flip(0)\n",
    "y = x.unfold(0,4,1)\n",
    "flipped = x.unfold(0,4,1).flip([0,1])\n",
    "torch.vmap(lambda v: tensor(v), 1, 1)(flipped)"
   ]
  },
  {
   "cell_type": "code",
   "execution_count": 4,
   "metadata": {},
   "outputs": [
    {
     "data": {
      "text/plain": [
       "[[1.0, 2.0, 3.0, 4.0],\n",
       " [3.0, 4.0, 5.0, 6.0],\n",
       " [5.0, 6.0, 7.0, 8.0],\n",
       " [7.0, 8.0, 9.0, 10.0],\n",
       " [9.0, 10.0, 11.0, 12.0],\n",
       " [11.0, 12.0, 13.0, 14.0],\n",
       " [13.0, 14.0, 15.0, 16.0],\n",
       " [15.0, 16.0, 17.0, 18.0]]"
      ]
     },
     "execution_count": 4,
     "metadata": {},
     "output_type": "execute_result"
    }
   ],
   "source": [
    "y.tolist()"
   ]
  },
  {
   "cell_type": "code",
   "execution_count": 6,
   "metadata": {},
   "outputs": [
    {
     "data": {
      "text/plain": [
       "tensor(35)"
      ]
     },
     "execution_count": 6,
     "metadata": {},
     "output_type": "execute_result"
    }
   ],
   "source": [
    "torch.tensor(35)#.unfold(0,1,2)"
   ]
  },
  {
   "cell_type": "code",
   "execution_count": 15,
   "metadata": {},
   "outputs": [
    {
     "data": {
      "text/plain": [
       "tensor([[1., 2.],\n",
       "        [3., 4.]])"
      ]
     },
     "execution_count": 15,
     "metadata": {},
     "output_type": "execute_result"
    }
   ],
   "source": [
    "y[0:2, 0:2]"
   ]
  },
  {
   "cell_type": "code",
   "execution_count": 12,
   "metadata": {},
   "outputs": [
    {
     "data": {
      "text/plain": [
       "tensor([1., 2., 3.])"
      ]
     },
     "execution_count": 12,
     "metadata": {},
     "output_type": "execute_result"
    }
   ],
   "source": [
    "a=[1,2,3]\n",
    "b=torch.Tensor(a)\n",
    "b.reshape([1,1,3,1]).reshape([3])"
   ]
  },
  {
   "cell_type": "code",
   "execution_count": 11,
   "metadata": {},
   "outputs": [],
   "source": [
    "import pandas as pd\n",
    "import pickle\n",
    "import torch\n",
    "\n",
    "def f():\n",
    "    return pd.DataFrame({\"a\":[1,2,3], \"b\":[4,5,6]})\n",
    "\n",
    "def tf_to_int(v):\n",
    "    if v:\n",
    "        return 1.0\n",
    "    else:\n",
    "        return 0.0\n",
    "\n",
    "def f2():\n",
    "    with open('g:\\coldfar_py\\data_pickled\\es_data_001_smallbox.df_p_c.pickle', 'rb') as f:\n",
    "        df = pickle.load(f).astype({'if_highly_overlapped': 'bool'})\n",
    "        df.reset_index(inplace=True)\n",
    "        #df[\"volume\"] = df[\"volume\"].apply(lambda v: float(v))\n",
    "        #df[\"DIF_mean_Δ\"] = df[\"DIF_mean_Δ\"].apply(lambda v: float(v))\n",
    "        #df[\"OSC_mean_Δ\"] = df[\"OSC_mean_Δ\"].apply(lambda v: float(v))\n",
    "        #df[\"g\"] = df[\"g\"].apply(lambda v: float(v))\n",
    "        #df[\"if_highly_overlapped\"] = df[\"if_highly_overlapped\"].apply(lambda v: tf_to_int(v))\n",
    "        #df[\"if_highly_overlapped\"] = df[\"if_highly_overlapped\"].apply(lambda v: str(v))\n",
    "        \n",
    "        return df\n",
    " \n",
    "def unfold(l, shape, dimension, size, step):\n",
    "    t_base = torch.Tensor(l)\n",
    "    print(t_base)\n",
    "    t = t_base.reshape(shape)\n",
    "    print(t)\n",
    "    f = t.unflod(dimension, size, step)\n",
    "    return f"
   ]
  },
  {
   "cell_type": "code",
   "execution_count": 2,
   "metadata": {},
   "outputs": [
    {
     "name": "stdout",
     "output_type": "stream",
     "text": [
      "1.10.1+cpu\n"
     ]
    }
   ],
   "source": [
    "print(torch.__version__)"
   ]
  },
  {
   "cell_type": "code",
   "execution_count": 1,
   "metadata": {},
   "outputs": [],
   "source": [
    "import torch"
   ]
  },
  {
   "cell_type": "code",
   "execution_count": 16,
   "metadata": {},
   "outputs": [
    {
     "data": {
      "text/plain": [
       "24"
      ]
     },
     "execution_count": 16,
     "metadata": {},
     "output_type": "execute_result"
    }
   ],
   "source": [
    "import numpy as np\n",
    "np.prod([1,2,3,4])\n"
   ]
  },
  {
   "cell_type": "code",
   "execution_count": 52,
   "metadata": {},
   "outputs": [
    {
     "data": {
      "text/plain": [
       "(tensor([[0, 1, 2],\n",
       "         [1, 2, 3],\n",
       "         [2, 3, 4],\n",
       "         [3, 4, 5],\n",
       "         [4, 5, 6],\n",
       "         [5, 6, 7],\n",
       "         [6, 7, 8],\n",
       "         [7, 8, 9]]),\n",
       " tensor([[0, 0, 0],\n",
       "         [0, 1, 2],\n",
       "         [1, 2, 3],\n",
       "         [2, 3, 4],\n",
       "         [3, 4, 5],\n",
       "         [4, 5, 6],\n",
       "         [5, 6, 7],\n",
       "         [6, 7, 8],\n",
       "         [7, 8, 9]]))"
      ]
     },
     "execution_count": 52,
     "metadata": {},
     "output_type": "execute_result"
    }
   ],
   "source": [
    "import torch.nn.functional as F\n",
    "source = torch.arange(10).unfold(0,3,1)\n",
    "# now we expand to size (7, 11) by appending a row of 0s at pos 0 and pos 6, \n",
    "#and a column of 0s at pos 10\n",
    "result = F.pad(input=source, pad=(0,0, 1,0), mode='constant', value=0)\n",
    "source, result"
   ]
  },
  {
   "cell_type": "code",
   "execution_count": null,
   "metadata": {},
   "outputs": [],
   "source": []
  }
 ],
 "metadata": {
  "interpreter": {
   "hash": "9c5f8903d44efea2b789ca8382891403b65d0c111d781e48d4828ff2796f4d9c"
  },
  "kernelspec": {
   "display_name": "Python 3.8.12 64-bit (system)",
   "language": "python",
   "name": "python3"
  },
  "language_info": {
   "codemirror_mode": {
    "name": "ipython",
    "version": 3
   },
   "file_extension": ".py",
   "mimetype": "text/x-python",
   "name": "python",
   "nbconvert_exporter": "python",
   "pygments_lexer": "ipython3",
   "version": "3.8.7"
  },
  "orig_nbformat": 4
 },
 "nbformat": 4,
 "nbformat_minor": 2
}
